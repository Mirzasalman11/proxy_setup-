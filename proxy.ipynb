{
 "cells": [
  {
   "cell_type": "markdown",
   "metadata": {},
   "source": [
    "# Proxy setup without authentication"
   ]
  },
  {
   "cell_type": "code",
   "execution_count": null,
   "metadata": {},
   "outputs": [],
   "source": [
    "from selenium import webdriver\n",
    "\n",
    "proxy = 'residential.proxyomega.com:20228'\n",
    "chrome_options = webdriver.ChromeOptions()\n",
    "chrome_options.add_argument(f'--proxy-server=http://{proxy}')\n",
    "\n",
    "driver = webdriver.Chrome(options=chrome_options)\n",
    "driver.get('https://whatismyipaddress.com/')\n"
   ]
  },
  {
   "cell_type": "markdown",
   "metadata": {},
   "source": [
    "# Proxy setup with authentication"
   ]
  },
  {
   "cell_type": "code",
   "execution_count": 25,
   "metadata": {},
   "outputs": [],
   "source": [
    "import time\n",
    "from threading import Thread\n",
    "import pyautogui\n",
    "from selenium.webdriver.chrome.options import Options\n",
    "from selenium import webdriver\n",
    "\n",
    "hostname = \"residential.proxyomega.com:20228\"\n",
    "proxy_username = \"hum777744_7669-country-any\"\n",
    "proxy_password = \"698ccb-ceb36d-a151f6-f63bd4-104426\"\n",
    "\n",
    "chrome_options = Options()\n",
    "chrome_options.add_argument(f'--proxy-server={hostname}')\n",
    "driver = webdriver.Chrome(options=chrome_options)\n",
    "\n",
    "\n",
    "def enter_proxy_auth(proxy_username, proxy_password):\n",
    "    time.sleep(2)\n",
    "    pyautogui.typewrite(proxy_username)\n",
    "    pyautogui.press('tab')\n",
    "    pyautogui.typewrite(proxy_password)\n",
    "    pyautogui.press('enter')\n",
    "\n",
    "\n",
    "def open_a_page(driver, url):\n",
    "    driver.get(url)\n",
    "\n",
    "\n",
    "Thread(target=open_a_page, args=(driver, \"https://whatismyipaddress.com/\")).start()\n",
    "Thread(target=enter_proxy_auth, args=(proxy_username, proxy_password)).start()"
   ]
  }
 ],
 "metadata": {
  "kernelspec": {
   "display_name": "Python 3",
   "language": "python",
   "name": "python3"
  },
  "language_info": {
   "codemirror_mode": {
    "name": "ipython",
    "version": 3
   },
   "file_extension": ".py",
   "mimetype": "text/x-python",
   "name": "python",
   "nbconvert_exporter": "python",
   "pygments_lexer": "ipython3",
   "version": "3.11.4"
  }
 },
 "nbformat": 4,
 "nbformat_minor": 2
}
